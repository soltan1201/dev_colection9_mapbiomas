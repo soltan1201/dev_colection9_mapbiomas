{
 "cells": [
  {
   "cell_type": "code",
   "execution_count": 2,
   "id": "2166d57c-d238-4eba-bf55-8268d75e50ba",
   "metadata": {},
   "outputs": [
    {
     "ename": "ImportError",
     "evalue": "cannot import name 'Panel' from 'bokeh.models.widgets' (/home/superuser/py-env/pyJup/lib/python3.11/site-packages/bokeh/models/widgets/__init__.py)",
     "output_type": "error",
     "traceback": [
      "\u001b[0;31m---------------------------------------------------------------------------\u001b[0m",
      "\u001b[0;31mImportError\u001b[0m                               Traceback (most recent call last)",
      "Cell \u001b[0;32mIn[2], line 1\u001b[0m\n\u001b[0;32m----> 1\u001b[0m \u001b[38;5;28;01mfrom\u001b[39;00m \u001b[38;5;21;01mbokeh\u001b[39;00m\u001b[38;5;21;01m.\u001b[39;00m\u001b[38;5;21;01mmodels\u001b[39;00m\u001b[38;5;21;01m.\u001b[39;00m\u001b[38;5;21;01mwidgets\u001b[39;00m \u001b[38;5;28;01mimport\u001b[39;00m Panel, Tabs\n\u001b[1;32m      2\u001b[0m \u001b[38;5;28;01mfrom\u001b[39;00m \u001b[38;5;21;01mbokeh\u001b[39;00m\u001b[38;5;21;01m.\u001b[39;00m\u001b[38;5;21;01mio\u001b[39;00m \u001b[38;5;28;01mimport\u001b[39;00m output_file, show\n\u001b[1;32m      3\u001b[0m \u001b[38;5;28;01mfrom\u001b[39;00m \u001b[38;5;21;01mbokeh\u001b[39;00m\u001b[38;5;21;01m.\u001b[39;00m\u001b[38;5;21;01mplotting\u001b[39;00m \u001b[38;5;28;01mimport\u001b[39;00m figure\n",
      "\u001b[0;31mImportError\u001b[0m: cannot import name 'Panel' from 'bokeh.models.widgets' (/home/superuser/py-env/pyJup/lib/python3.11/site-packages/bokeh/models/widgets/__init__.py)"
     ]
    }
   ],
   "source": [
    "from bokeh.models.widgets import Panel, Tabs\n",
    "from bokeh.io import output_file, show\n",
    "from bokeh.plotting import figure"
   ]
  },
  {
   "cell_type": "code",
   "execution_count": null,
   "id": "37b4af5b-53aa-43e4-8ac7-e4347725934b",
   "metadata": {},
   "outputs": [],
   "source": [
    "output_file(\"slider.html\")"
   ]
  },
  {
   "cell_type": "code",
   "execution_count": null,
   "id": "e121f23c-4970-4dff-82f8-c1e35a1ba9b8",
   "metadata": {},
   "outputs": [],
   "source": []
  },
  {
   "cell_type": "code",
   "execution_count": null,
   "id": "715583f4-0d25-4b14-8aba-14be7e32ee4c",
   "metadata": {},
   "outputs": [],
   "source": []
  },
  {
   "cell_type": "code",
   "execution_count": null,
   "id": "51e4d4a4-7090-4fb1-9095-4afff93052c2",
   "metadata": {},
   "outputs": [],
   "source": []
  },
  {
   "cell_type": "code",
   "execution_count": null,
   "id": "972e1bd0-ec3b-4380-b9a9-201754dcc12c",
   "metadata": {},
   "outputs": [],
   "source": []
  },
  {
   "cell_type": "code",
   "execution_count": 3,
   "id": "c533a97d-9f18-49c1-af37-f183cb124838",
   "metadata": {},
   "outputs": [],
   "source": [
    "from bokeh.layouts import row\n",
    "from bokeh.plotting import figure, show\n",
    "\n",
    "# prepare some data\n",
    "x = list(range(11))\n",
    "y0 = x\n",
    "y1 = [10 - i for i in x]\n",
    "y2 = [abs(i - 5) for i in x]\n",
    "\n",
    "# create three plots with one renderer each\n",
    "s1 = figure(width=250, height=250, background_fill_color=\"#fafafa\")\n",
    "s1.scatter(x, y0, size=12, color=\"#53777a\", alpha=0.8, marker=\"circle\")\n",
    "\n",
    "s2 = figure(width=250, height=250, background_fill_color=\"#fafafa\")\n",
    "s2.scatter(x, y1, size=12, color=\"#c02942\", alpha=0.8, marker=\"triangle\")\n",
    "\n",
    "s3 = figure(width=250, height=250, background_fill_color=\"#fafafa\")\n",
    "s3.scatter(x, y2, size=12, color=\"#d95b43\", alpha=0.8, marker=\"square\")\n",
    "\n",
    "# put the results in a row and show\n",
    "show(row(s1, s2, s3))"
   ]
  },
  {
   "cell_type": "code",
   "execution_count": 6,
   "id": "3d5164c8-e326-4655-85a0-0324d9a6097a",
   "metadata": {},
   "outputs": [
    {
     "name": "stdout",
     "output_type": "stream",
     "text": [
      "\u001b[31mERROR: Could not find a version that satisfies the requirement tutorial_data (from versions: none)\u001b[0m\u001b[31m\n",
      "\u001b[0m\u001b[31mERROR: No matching distribution found for tutorial_data\u001b[0m\u001b[31m\n",
      "\u001b[0m"
     ]
    }
   ],
   "source": [
    "!pip install tutorial_data\n"
   ]
  },
  {
   "cell_type": "code",
   "execution_count": 5,
   "id": "8f240b89-f6b4-4463-a93d-73a609545557",
   "metadata": {},
   "outputs": [
    {
     "ename": "ModuleNotFoundError",
     "evalue": "No module named 'tutorial_data'",
     "output_type": "error",
     "traceback": [
      "\u001b[0;31m---------------------------------------------------------------------------\u001b[0m",
      "\u001b[0;31mModuleNotFoundError\u001b[0m                       Traceback (most recent call last)",
      "Cell \u001b[0;32mIn[5], line 2\u001b[0m\n\u001b[1;32m      1\u001b[0m \u001b[38;5;66;03m# load tutorial data\u001b[39;00m\n\u001b[0;32m----> 2\u001b[0m \u001b[38;5;28;01mfrom\u001b[39;00m \u001b[38;5;21;01mtutorial_data\u001b[39;00m \u001b[38;5;28;01mimport\u001b[39;00m data\n",
      "\u001b[0;31mModuleNotFoundError\u001b[0m: No module named 'tutorial_data'"
     ]
    }
   ],
   "source": [
    "import \n",
    "# load tutorial data\n",
    "from tutorial_data import data"
   ]
  },
  {
   "cell_type": "code",
   "execution_count": 4,
   "id": "1b43bdd6-6e77-4e4e-9df0-acc65314c248",
   "metadata": {},
   "outputs": [
    {
     "ename": "NameError",
     "evalue": "name 'data' is not defined",
     "output_type": "error",
     "traceback": [
      "\u001b[0;31m---------------------------------------------------------------------------\u001b[0m",
      "\u001b[0;31mNameError\u001b[0m                                 Traceback (most recent call last)",
      "Cell \u001b[0;32mIn[4], line 8\u001b[0m\n\u001b[1;32m      2\u001b[0m visual_properties_plot \u001b[38;5;241m=\u001b[39m figure(\n\u001b[1;32m      3\u001b[0m     height\u001b[38;5;241m=\u001b[39m\u001b[38;5;241m300\u001b[39m,\n\u001b[1;32m      4\u001b[0m     title\u001b[38;5;241m=\u001b[39m\u001b[38;5;124m\"\u001b[39m\u001b[38;5;124mDomestic Freight and Mail (2021)\u001b[39m\u001b[38;5;124m\"\u001b[39m,\n\u001b[1;32m      5\u001b[0m )\n\u001b[1;32m      7\u001b[0m \u001b[38;5;66;03m# load data from the monthly_values_df data set from the demo data\u001b[39;00m\n\u001b[0;32m----> 8\u001b[0m monthly_values_df \u001b[38;5;241m=\u001b[39m \u001b[43mdata\u001b[49m\u001b[38;5;241m.\u001b[39mget_monthly_values()\n\u001b[1;32m     10\u001b[0m \u001b[38;5;66;03m# use data from the monthly_values_df DataFrame\u001b[39;00m\n\u001b[1;32m     11\u001b[0m x \u001b[38;5;241m=\u001b[39m monthly_values_df\u001b[38;5;241m.\u001b[39mindex  \u001b[38;5;66;03m# x-axis is the number of the month\u001b[39;00m\n",
      "\u001b[0;31mNameError\u001b[0m: name 'data' is not defined"
     ]
    }
   ],
   "source": [
    "# set up the plot\n",
    "visual_properties_plot = figure(\n",
    "    height=300,\n",
    "    title=\"Domestic Freight and Mail (2021)\",\n",
    ")\n",
    "\n",
    "# load data from the monthly_values_df data set from the demo data\n",
    "monthly_values_df = data.get_monthly_values()\n",
    "\n",
    "# use data from the monthly_values_df DataFrame\n",
    "x = monthly_values_df.index  # x-axis is the number of the month\n",
    "freight = monthly_values_df[\"freight\"]  # the amount of freight\n",
    "mail = monthly_values_df[\"mail\"]  # the amount of mail\n",
    "\n",
    "# Change the font size of the title\n",
    "# 🔁 try changing the values of those properties to see how they affect the plot\n",
    "visual_properties_plot.title.text_font_size = \"1.2em\"  # use a CSS-style definition of the font size\n",
    "visual_properties_plot.title.text_color = \"darkblue\"  # use a named CSS color\n",
    "\n",
    "# add a line glyph and customize its appearance\n",
    "# 🔁 try changing the values of those properties to see how they affect the plot\n",
    "visual_properties_plot.line(\n",
    "    x,\n",
    "    freight,\n",
    "    line_width=3,\n",
    "    line_color=\"orange\",\n",
    "    line_alpha=0.6,\n",
    "    line_dash=\"dashed\",  # line properties\n",
    ")\n",
    "\n",
    "# add a vbar glyph and customize its appearance\n",
    "# 🔁 try changing the values of those properties to see how they affect the plot\n",
    "visual_properties_plot.vbar(\n",
    "    x=x,\n",
    "    top=mail,\n",
    "    width=0.9,\n",
    "    fill_alpha=0.5,\n",
    "    fill_color=\"navy\",  # fill properties\n",
    "    hatch_pattern=\"spiral\",\n",
    "    hatch_alpha=0.5,\n",
    "    hatch_color=\"yellow\",  # hatch properties\n",
    ")\n",
    "\n",
    "show(visual_properties_plot)"
   ]
  },
  {
   "cell_type": "code",
   "execution_count": 19,
   "id": "2a213ae3-e5b2-408c-b1b0-24a035f4a2b7",
   "metadata": {},
   "outputs": [
    {
     "ename": "NameError",
     "evalue": "name 'Div' is not defined",
     "output_type": "error",
     "traceback": [
      "\u001b[0;31m---------------------------------------------------------------------------\u001b[0m",
      "\u001b[0;31mNameError\u001b[0m                                 Traceback (most recent call last)",
      "Cell \u001b[0;32mIn[19], line 72\u001b[0m\n\u001b[1;32m      6\u001b[0m \u001b[38;5;28;01mfrom\u001b[39;00m \u001b[38;5;21;01mbokeh\u001b[39;00m\u001b[38;5;21;01m.\u001b[39;00m\u001b[38;5;21;01mplotting\u001b[39;00m \u001b[38;5;28;01mimport\u001b[39;00m save\n\u001b[1;32m      8\u001b[0m menu \u001b[38;5;241m=\u001b[39m [(\u001b[38;5;124m\"\u001b[39m\u001b[38;5;124mItem 1\u001b[39m\u001b[38;5;124m\"\u001b[39m, \u001b[38;5;124m\"\u001b[39m\u001b[38;5;124m1\u001b[39m\u001b[38;5;124m\"\u001b[39m), (\u001b[38;5;124m\"\u001b[39m\u001b[38;5;124mItem 2\u001b[39m\u001b[38;5;124m\"\u001b[39m, \u001b[38;5;124m\"\u001b[39m\u001b[38;5;124m2\u001b[39m\u001b[38;5;124m\"\u001b[39m), (\u001b[38;5;124m\"\u001b[39m\u001b[38;5;124mItem 3\u001b[39m\u001b[38;5;124m\"\u001b[39m, \u001b[38;5;124m\"\u001b[39m\u001b[38;5;124m3\u001b[39m\u001b[38;5;124m\"\u001b[39m)]\n\u001b[1;32m     10\u001b[0m layout \u001b[38;5;241m=\u001b[39m column(\n\u001b[1;32m     11\u001b[0m     Button(label\u001b[38;5;241m=\u001b[39m\u001b[38;5;124m\"\u001b[39m\u001b[38;5;124mDefault Button 1\u001b[39m\u001b[38;5;124m\"\u001b[39m, button_type\u001b[38;5;241m=\u001b[39m\u001b[38;5;124m\"\u001b[39m\u001b[38;5;124mdefault\u001b[39m\u001b[38;5;124m\"\u001b[39m),\n\u001b[1;32m     12\u001b[0m     Button(label\u001b[38;5;241m=\u001b[39m\u001b[38;5;124m\"\u001b[39m\u001b[38;5;124mPrimary Button 2\u001b[39m\u001b[38;5;124m\"\u001b[39m, button_type\u001b[38;5;241m=\u001b[39m\u001b[38;5;124m\"\u001b[39m\u001b[38;5;124mprimary\u001b[39m\u001b[38;5;124m\"\u001b[39m),\n\u001b[1;32m     13\u001b[0m     Button(label\u001b[38;5;241m=\u001b[39m\u001b[38;5;124m\"\u001b[39m\u001b[38;5;124mSuccess Button 3\u001b[39m\u001b[38;5;124m\"\u001b[39m, button_type\u001b[38;5;241m=\u001b[39m\u001b[38;5;124m\"\u001b[39m\u001b[38;5;124msuccess\u001b[39m\u001b[38;5;124m\"\u001b[39m),\n\u001b[1;32m     14\u001b[0m \n\u001b[1;32m     15\u001b[0m     Toggle(label\u001b[38;5;241m=\u001b[39m\u001b[38;5;124m\"\u001b[39m\u001b[38;5;124mDefault Toggle 1\u001b[39m\u001b[38;5;124m\"\u001b[39m, button_type\u001b[38;5;241m=\u001b[39m\u001b[38;5;124m\"\u001b[39m\u001b[38;5;124mdefault\u001b[39m\u001b[38;5;124m\"\u001b[39m),\n\u001b[1;32m     16\u001b[0m     Toggle(label\u001b[38;5;241m=\u001b[39m\u001b[38;5;124m\"\u001b[39m\u001b[38;5;124mPrimary Toggle 2\u001b[39m\u001b[38;5;124m\"\u001b[39m, button_type\u001b[38;5;241m=\u001b[39m\u001b[38;5;124m\"\u001b[39m\u001b[38;5;124mprimary\u001b[39m\u001b[38;5;124m\"\u001b[39m),\n\u001b[1;32m     17\u001b[0m     Toggle(label\u001b[38;5;241m=\u001b[39m\u001b[38;5;124m\"\u001b[39m\u001b[38;5;124mSuccess Toggle 3\u001b[39m\u001b[38;5;124m\"\u001b[39m, button_type\u001b[38;5;241m=\u001b[39m\u001b[38;5;124m\"\u001b[39m\u001b[38;5;124msuccess\u001b[39m\u001b[38;5;124m\"\u001b[39m),\n\u001b[1;32m     18\u001b[0m \n\u001b[1;32m     19\u001b[0m     Dropdown(label\u001b[38;5;241m=\u001b[39m\u001b[38;5;124m\"\u001b[39m\u001b[38;5;124mDefault Dropdown 1\u001b[39m\u001b[38;5;124m\"\u001b[39m, button_type\u001b[38;5;241m=\u001b[39m\u001b[38;5;124m\"\u001b[39m\u001b[38;5;124mdefault\u001b[39m\u001b[38;5;124m\"\u001b[39m, menu\u001b[38;5;241m=\u001b[39mmenu),\n\u001b[1;32m     20\u001b[0m     Dropdown(label\u001b[38;5;241m=\u001b[39m\u001b[38;5;124m\"\u001b[39m\u001b[38;5;124mPrimary Dropdown 2\u001b[39m\u001b[38;5;124m\"\u001b[39m, button_type\u001b[38;5;241m=\u001b[39m\u001b[38;5;124m\"\u001b[39m\u001b[38;5;124mprimary\u001b[39m\u001b[38;5;124m\"\u001b[39m, menu\u001b[38;5;241m=\u001b[39mmenu),\n\u001b[1;32m     21\u001b[0m     Dropdown(label\u001b[38;5;241m=\u001b[39m\u001b[38;5;124m\"\u001b[39m\u001b[38;5;124mSuccess Dropdown 3\u001b[39m\u001b[38;5;124m\"\u001b[39m, button_type\u001b[38;5;241m=\u001b[39m\u001b[38;5;124m\"\u001b[39m\u001b[38;5;124msuccess\u001b[39m\u001b[38;5;124m\"\u001b[39m, menu\u001b[38;5;241m=\u001b[39mmenu),\n\u001b[1;32m     22\u001b[0m \n\u001b[1;32m     23\u001b[0m     CheckboxButtonGroup(labels\u001b[38;5;241m=\u001b[39m[\u001b[38;5;124m\"\u001b[39m\u001b[38;5;124mCheckbox Option 1\u001b[39m\u001b[38;5;124m\"\u001b[39m, \u001b[38;5;124m\"\u001b[39m\u001b[38;5;124mCheckbox Option 2\u001b[39m\u001b[38;5;124m\"\u001b[39m, \u001b[38;5;124m\"\u001b[39m\u001b[38;5;124mCheckbox Option 3\u001b[39m\u001b[38;5;124m\"\u001b[39m], button_type\u001b[38;5;241m=\u001b[39m\u001b[38;5;124m\"\u001b[39m\u001b[38;5;124mdefault\u001b[39m\u001b[38;5;124m\"\u001b[39m, active\u001b[38;5;241m=\u001b[39m[\u001b[38;5;241m0\u001b[39m, \u001b[38;5;241m1\u001b[39m]),\n\u001b[1;32m     24\u001b[0m     CheckboxButtonGroup(labels\u001b[38;5;241m=\u001b[39m[\u001b[38;5;124m\"\u001b[39m\u001b[38;5;124mCheckbox Option 4\u001b[39m\u001b[38;5;124m\"\u001b[39m, \u001b[38;5;124m\"\u001b[39m\u001b[38;5;124mCheckbox Option 5\u001b[39m\u001b[38;5;124m\"\u001b[39m, \u001b[38;5;124m\"\u001b[39m\u001b[38;5;124mCheckbox Option 6\u001b[39m\u001b[38;5;124m\"\u001b[39m], button_type\u001b[38;5;241m=\u001b[39m\u001b[38;5;124m\"\u001b[39m\u001b[38;5;124mprimary\u001b[39m\u001b[38;5;124m\"\u001b[39m, active\u001b[38;5;241m=\u001b[39m[\u001b[38;5;241m1\u001b[39m, \u001b[38;5;241m2\u001b[39m]),\n\u001b[1;32m     25\u001b[0m     CheckboxButtonGroup(labels\u001b[38;5;241m=\u001b[39m[\u001b[38;5;124m\"\u001b[39m\u001b[38;5;124mCheckbox Option 7\u001b[39m\u001b[38;5;124m\"\u001b[39m, \u001b[38;5;124m\"\u001b[39m\u001b[38;5;124mCheckbox Option 8\u001b[39m\u001b[38;5;124m\"\u001b[39m, \u001b[38;5;124m\"\u001b[39m\u001b[38;5;124mCheckbox Option 9\u001b[39m\u001b[38;5;124m\"\u001b[39m], button_type\u001b[38;5;241m=\u001b[39m\u001b[38;5;124m\"\u001b[39m\u001b[38;5;124msuccess\u001b[39m\u001b[38;5;124m\"\u001b[39m, active\u001b[38;5;241m=\u001b[39m[\u001b[38;5;241m0\u001b[39m, \u001b[38;5;241m2\u001b[39m]),\n\u001b[1;32m     26\u001b[0m \n\u001b[1;32m     27\u001b[0m     RadioButtonGroup(labels\u001b[38;5;241m=\u001b[39m[\u001b[38;5;124m\"\u001b[39m\u001b[38;5;124mRadio Option 1\u001b[39m\u001b[38;5;124m\"\u001b[39m, \u001b[38;5;124m\"\u001b[39m\u001b[38;5;124mRadio Option 2\u001b[39m\u001b[38;5;124m\"\u001b[39m, \u001b[38;5;124m\"\u001b[39m\u001b[38;5;124mRadio Option 3\u001b[39m\u001b[38;5;124m\"\u001b[39m], button_type\u001b[38;5;241m=\u001b[39m\u001b[38;5;124m\"\u001b[39m\u001b[38;5;124mdefault\u001b[39m\u001b[38;5;124m\"\u001b[39m, active\u001b[38;5;241m=\u001b[39m\u001b[38;5;241m0\u001b[39m),\n\u001b[1;32m     28\u001b[0m     RadioButtonGroup(labels\u001b[38;5;241m=\u001b[39m[\u001b[38;5;124m\"\u001b[39m\u001b[38;5;124mRadio Option 4\u001b[39m\u001b[38;5;124m\"\u001b[39m, \u001b[38;5;124m\"\u001b[39m\u001b[38;5;124mRadio Option 5\u001b[39m\u001b[38;5;124m\"\u001b[39m, \u001b[38;5;124m\"\u001b[39m\u001b[38;5;124mRadio Option 6\u001b[39m\u001b[38;5;124m\"\u001b[39m], button_type\u001b[38;5;241m=\u001b[39m\u001b[38;5;124m\"\u001b[39m\u001b[38;5;124mprimary\u001b[39m\u001b[38;5;124m\"\u001b[39m, active\u001b[38;5;241m=\u001b[39m\u001b[38;5;241m1\u001b[39m),\n\u001b[1;32m     29\u001b[0m     RadioButtonGroup(labels\u001b[38;5;241m=\u001b[39m[\u001b[38;5;124m\"\u001b[39m\u001b[38;5;124mRadio Option 7\u001b[39m\u001b[38;5;124m\"\u001b[39m, \u001b[38;5;124m\"\u001b[39m\u001b[38;5;124mRadio Option 8\u001b[39m\u001b[38;5;124m\"\u001b[39m, \u001b[38;5;124m\"\u001b[39m\u001b[38;5;124mRadio Option 9\u001b[39m\u001b[38;5;124m\"\u001b[39m], button_type\u001b[38;5;241m=\u001b[39m\u001b[38;5;124m\"\u001b[39m\u001b[38;5;124msuccess\u001b[39m\u001b[38;5;124m\"\u001b[39m, active\u001b[38;5;241m=\u001b[39m\u001b[38;5;241m2\u001b[39m),\n\u001b[1;32m     30\u001b[0m \n\u001b[1;32m     31\u001b[0m     TextInput(placeholder\u001b[38;5;241m=\u001b[39m\u001b[38;5;124m\"\u001b[39m\u001b[38;5;124mTextInput 1\u001b[39m\u001b[38;5;124m\"\u001b[39m),\n\u001b[1;32m     32\u001b[0m     TextInput(placeholder\u001b[38;5;241m=\u001b[39m\u001b[38;5;124m\"\u001b[39m\u001b[38;5;124mTextInput 2\u001b[39m\u001b[38;5;124m\"\u001b[39m),\n\u001b[1;32m     33\u001b[0m     TextInput(placeholder\u001b[38;5;241m=\u001b[39m\u001b[38;5;124m\"\u001b[39m\u001b[38;5;124mTextInput 3\u001b[39m\u001b[38;5;124m\"\u001b[39m),\n\u001b[1;32m     34\u001b[0m \n\u001b[1;32m     35\u001b[0m     AutocompleteInput(placeholder\u001b[38;5;241m=\u001b[39m\u001b[38;5;124m\"\u001b[39m\u001b[38;5;124mAutocompleteInput 1 ...\u001b[39m\u001b[38;5;124m\"\u001b[39m, completions\u001b[38;5;241m=\u001b[39m[\u001b[38;5;124m\"\u001b[39m\u001b[38;5;124maaa\u001b[39m\u001b[38;5;124m\"\u001b[39m, \u001b[38;5;124m\"\u001b[39m\u001b[38;5;124maab\u001b[39m\u001b[38;5;124m\"\u001b[39m, \u001b[38;5;124m\"\u001b[39m\u001b[38;5;124maac\u001b[39m\u001b[38;5;124m\"\u001b[39m, \u001b[38;5;124m\"\u001b[39m\u001b[38;5;124mbaa\u001b[39m\u001b[38;5;124m\"\u001b[39m, \u001b[38;5;124m\"\u001b[39m\u001b[38;5;124mcaa\u001b[39m\u001b[38;5;124m\"\u001b[39m]),\n\u001b[1;32m     36\u001b[0m     AutocompleteInput(placeholder\u001b[38;5;241m=\u001b[39m\u001b[38;5;124m\"\u001b[39m\u001b[38;5;124mAutocompleteInput 2 ...\u001b[39m\u001b[38;5;124m\"\u001b[39m, completions\u001b[38;5;241m=\u001b[39m[\u001b[38;5;124m\"\u001b[39m\u001b[38;5;124mAAA\u001b[39m\u001b[38;5;124m\"\u001b[39m, \u001b[38;5;124m\"\u001b[39m\u001b[38;5;124mAAB\u001b[39m\u001b[38;5;124m\"\u001b[39m, \u001b[38;5;124m\"\u001b[39m\u001b[38;5;124mAAC\u001b[39m\u001b[38;5;124m\"\u001b[39m, \u001b[38;5;124m\"\u001b[39m\u001b[38;5;124mBAA\u001b[39m\u001b[38;5;124m\"\u001b[39m, \u001b[38;5;124m\"\u001b[39m\u001b[38;5;124mCAA\u001b[39m\u001b[38;5;124m\"\u001b[39m]),\n\u001b[1;32m     37\u001b[0m     AutocompleteInput(placeholder\u001b[38;5;241m=\u001b[39m\u001b[38;5;124m\"\u001b[39m\u001b[38;5;124mAutocompleteInput 3 ...\u001b[39m\u001b[38;5;124m\"\u001b[39m, completions\u001b[38;5;241m=\u001b[39m[\u001b[38;5;124m\"\u001b[39m\u001b[38;5;124m000\u001b[39m\u001b[38;5;124m\"\u001b[39m, \u001b[38;5;124m\"\u001b[39m\u001b[38;5;124m001\u001b[39m\u001b[38;5;124m\"\u001b[39m, \u001b[38;5;124m\"\u001b[39m\u001b[38;5;124m002\u001b[39m\u001b[38;5;124m\"\u001b[39m, \u001b[38;5;124m\"\u001b[39m\u001b[38;5;124m100\u001b[39m\u001b[38;5;124m\"\u001b[39m, \u001b[38;5;124m\"\u001b[39m\u001b[38;5;124m200\u001b[39m\u001b[38;5;124m\"\u001b[39m]),\n\u001b[1;32m     38\u001b[0m \n\u001b[1;32m     39\u001b[0m     DatePicker(value\u001b[38;5;241m=\u001b[39mdate(\u001b[38;5;241m2018\u001b[39m, \u001b[38;5;241m9\u001b[39m, \u001b[38;5;241m1\u001b[39m)),\n\u001b[1;32m     40\u001b[0m     DatePicker(value\u001b[38;5;241m=\u001b[39mdate(\u001b[38;5;241m2018\u001b[39m, \u001b[38;5;241m9\u001b[39m, \u001b[38;5;241m2\u001b[39m)),\n\u001b[1;32m     41\u001b[0m     DatePicker(value\u001b[38;5;241m=\u001b[39mdate(\u001b[38;5;241m2018\u001b[39m, \u001b[38;5;241m9\u001b[39m, \u001b[38;5;241m3\u001b[39m)),\n\u001b[1;32m     42\u001b[0m \u001b[38;5;66;03m# )\u001b[39;00m\n\u001b[1;32m     43\u001b[0m \n\u001b[1;32m     44\u001b[0m     \u001b[38;5;66;03m#Slider(value=10, start=0, end=100, step=0.5),\u001b[39;00m\n\u001b[1;32m     45\u001b[0m     \u001b[38;5;66;03m#RangeSlider(value=[20, 30], start=0, end=100, step=0.5),\u001b[39;00m\n\u001b[1;32m     46\u001b[0m     \u001b[38;5;66;03m#DateSlider(value=date(2018, 9, 1), start=date(2018, 1, 1), end=date(2018, 12, 31)),\u001b[39;00m\n\u001b[1;32m     47\u001b[0m     \u001b[38;5;66;03m#DateRangeSlider(value=(date(2018, 9, 1), date(2018, 9, 30)), start=date(2018, 1, 1), end=date(2018, 12, 31)),\u001b[39;00m\n\u001b[1;32m     48\u001b[0m \n\u001b[1;32m     49\u001b[0m     \u001b[38;5;66;03m#CheckboxGroup(labels=[\"Checkbox Option 1\", \"Checkbox Option 2\", \"Checkbox Option 3\"], active=[0, 1]),\u001b[39;00m\n\u001b[1;32m     50\u001b[0m     \u001b[38;5;66;03m#CheckboxGroup(labels=[\"Checkbox Option 4\", \"Checkbox Option 5\", \"Checkbox Option 6\"], active=[1, 2]),\u001b[39;00m\n\u001b[1;32m     51\u001b[0m     \u001b[38;5;66;03m#CheckboxGroup(labels=[\"Checkbox Option 7\", \"Checkbox Option 8\", \"Checkbox Option 9\"], active=[0, 2]),\u001b[39;00m\n\u001b[1;32m     52\u001b[0m \n\u001b[1;32m     53\u001b[0m     \u001b[38;5;66;03m#CheckboxGroup(labels=[\"Checkbox Option 1\", \"Checkbox Option 2\", \"Checkbox Option 3\"], active=[0, 1], inline=True),\u001b[39;00m\n\u001b[1;32m     54\u001b[0m     \u001b[38;5;66;03m#CheckboxGroup(labels=[\"Checkbox Option 4\", \"Checkbox Option 5\", \"Checkbox Option 6\"], active=[1, 2], inline=True),\u001b[39;00m\n\u001b[1;32m     55\u001b[0m     \u001b[38;5;66;03m#CheckboxGroup(labels=[\"Checkbox Option 7\", \"Checkbox Option 8\", \"Checkbox Option 9\"], active=[0, 2], inline=True),\u001b[39;00m\n\u001b[1;32m     56\u001b[0m \n\u001b[1;32m     57\u001b[0m     \u001b[38;5;66;03m#RadioGroup(labels=[\"Radio Option 1\", \"Radio Option 2\", \"Radio Option 3\"], active=0),\u001b[39;00m\n\u001b[1;32m     58\u001b[0m     \u001b[38;5;66;03m#RadioGroup(labels=[\"Radio Option 4\", \"Radio Option 5\", \"Radio Option 6\"], active=1),\u001b[39;00m\n\u001b[1;32m     59\u001b[0m     \u001b[38;5;66;03m#RadioGroup(labels=[\"Radio Option 7\", \"Radio Option 8\", \"Radio Option 9\"], active=2),\u001b[39;00m\n\u001b[1;32m     60\u001b[0m \n\u001b[1;32m     61\u001b[0m     \u001b[38;5;66;03m#RadioGroup(labels=[\"Radio Option 1\", \"Radio Option 2\", \"Radio Option 3\"], active=0, inline=True),\u001b[39;00m\n\u001b[1;32m     62\u001b[0m     \u001b[38;5;66;03m#RadioGroup(labels=[\"Radio Option 4\", \"Radio Option 5\", \"Radio Option 6\"], active=1, inline=True),\u001b[39;00m\n\u001b[1;32m     63\u001b[0m     \u001b[38;5;66;03m#RadioGroup(labels=[\"Radio Option 7\", \"Radio Option 8\", \"Radio Option 9\"], active=2, inline=True),\u001b[39;00m\n\u001b[1;32m     64\u001b[0m \n\u001b[1;32m     65\u001b[0m     \u001b[38;5;66;03m#Select(options=[\"Select Option 1\", \"Select Option 2\", \"Select Option 3\"]),\u001b[39;00m\n\u001b[1;32m     66\u001b[0m     \u001b[38;5;66;03m#MultiSelect(options=[f\"MultiSelect Option {i+1}\" for i in range(16)], size=6),\u001b[39;00m\n\u001b[1;32m     67\u001b[0m \n\u001b[1;32m     68\u001b[0m     \u001b[38;5;66;03m#Paragraph(text=\"Paragraph 1\"),\u001b[39;00m\n\u001b[1;32m     69\u001b[0m     \u001b[38;5;66;03m#Paragraph(text=\"Paragraph 2\"),\u001b[39;00m\n\u001b[1;32m     70\u001b[0m     \u001b[38;5;66;03m#Paragraph(text=\"Paragraph 3\"),\u001b[39;00m\n\u001b[1;32m     71\u001b[0m \n\u001b[0;32m---> 72\u001b[0m     \u001b[43mDiv\u001b[49m(text\u001b[38;5;241m=\u001b[39m\u001b[38;5;124m\"\u001b[39m\u001b[38;5;124mDiv 1\u001b[39m\u001b[38;5;124m\"\u001b[39m),\n\u001b[1;32m     73\u001b[0m     Div(text\u001b[38;5;241m=\u001b[39m\u001b[38;5;124m\"\u001b[39m\u001b[38;5;124mDiv 2\u001b[39m\u001b[38;5;124m\"\u001b[39m),\n\u001b[1;32m     74\u001b[0m     Div(text\u001b[38;5;241m=\u001b[39m\u001b[38;5;124m\"\u001b[39m\u001b[38;5;124mDiv 3\u001b[39m\u001b[38;5;124m\"\u001b[39m),\n\u001b[1;32m     75\u001b[0m \n\u001b[1;32m     76\u001b[0m     PreText(text\u001b[38;5;241m=\u001b[39m\u001b[38;5;124m\"\u001b[39m\u001b[38;5;124mPreText 1\u001b[39m\u001b[38;5;124m\"\u001b[39m),\n\u001b[1;32m     77\u001b[0m     PreText(text\u001b[38;5;241m=\u001b[39m\u001b[38;5;124m\"\u001b[39m\u001b[38;5;124mPreText 2\u001b[39m\u001b[38;5;124m\"\u001b[39m),\n\u001b[1;32m     78\u001b[0m     PreText(text\u001b[38;5;241m=\u001b[39m\u001b[38;5;124m\"\u001b[39m\u001b[38;5;124mPreText 3\u001b[39m\u001b[38;5;124m\"\u001b[39m),\n\u001b[1;32m     79\u001b[0m )\n\u001b[1;32m     80\u001b[0m show(layout)\n",
      "\u001b[0;31mNameError\u001b[0m: name 'Div' is not defined"
     ]
    }
   ],
   "source": [
    "from datetime import date\n",
    "\n",
    "from bokeh.layouts import column\n",
    "from bokeh.models import (AutocompleteInput, Button, CheckboxButtonGroup,\n",
    "                          DatePicker, Dropdown, RadioButtonGroup, TextInput, Toggle)\n",
    "from bokeh.plotting import save\n",
    "\n",
    "menu = [(\"Item 1\", \"1\"), (\"Item 2\", \"2\"), (\"Item 3\", \"3\")]\n",
    "\n",
    "layout = column(\n",
    "    Button(label=\"Default Button 1\", button_type=\"default\"),\n",
    "    Button(label=\"Primary Button 2\", button_type=\"primary\"),\n",
    "    Button(label=\"Success Button 3\", button_type=\"success\"),\n",
    "\n",
    "    Toggle(label=\"Default Toggle 1\", button_type=\"default\"),\n",
    "    Toggle(label=\"Primary Toggle 2\", button_type=\"primary\"),\n",
    "    Toggle(label=\"Success Toggle 3\", button_type=\"success\"),\n",
    "\n",
    "    Dropdown(label=\"Default Dropdown 1\", button_type=\"default\", menu=menu),\n",
    "    Dropdown(label=\"Primary Dropdown 2\", button_type=\"primary\", menu=menu),\n",
    "    Dropdown(label=\"Success Dropdown 3\", button_type=\"success\", menu=menu),\n",
    "\n",
    "    CheckboxButtonGroup(labels=[\"Checkbox Option 1\", \"Checkbox Option 2\", \"Checkbox Option 3\"], button_type=\"default\", active=[0, 1]),\n",
    "    CheckboxButtonGroup(labels=[\"Checkbox Option 4\", \"Checkbox Option 5\", \"Checkbox Option 6\"], button_type=\"primary\", active=[1, 2]),\n",
    "    CheckboxButtonGroup(labels=[\"Checkbox Option 7\", \"Checkbox Option 8\", \"Checkbox Option 9\"], button_type=\"success\", active=[0, 2]),\n",
    "\n",
    "    RadioButtonGroup(labels=[\"Radio Option 1\", \"Radio Option 2\", \"Radio Option 3\"], button_type=\"default\", active=0),\n",
    "    RadioButtonGroup(labels=[\"Radio Option 4\", \"Radio Option 5\", \"Radio Option 6\"], button_type=\"primary\", active=1),\n",
    "    RadioButtonGroup(labels=[\"Radio Option 7\", \"Radio Option 8\", \"Radio Option 9\"], button_type=\"success\", active=2),\n",
    "\n",
    "    TextInput(placeholder=\"TextInput 1\"),\n",
    "    TextInput(placeholder=\"TextInput 2\"),\n",
    "    TextInput(placeholder=\"TextInput 3\"),\n",
    "\n",
    "    AutocompleteInput(placeholder=\"AutocompleteInput 1 ...\", completions=[\"aaa\", \"aab\", \"aac\", \"baa\", \"caa\"]),\n",
    "    AutocompleteInput(placeholder=\"AutocompleteInput 2 ...\", completions=[\"AAA\", \"AAB\", \"AAC\", \"BAA\", \"CAA\"]),\n",
    "    AutocompleteInput(placeholder=\"AutocompleteInput 3 ...\", completions=[\"000\", \"001\", \"002\", \"100\", \"200\"]),\n",
    "\n",
    "    DatePicker(value=date(2018, 9, 1)),\n",
    "    DatePicker(value=date(2018, 9, 2)),\n",
    "    DatePicker(value=date(2018, 9, 3)),\n",
    "# )\n",
    "\n",
    "    #Slider(value=10, start=0, end=100, step=0.5),\n",
    "    #RangeSlider(value=[20, 30], start=0, end=100, step=0.5),\n",
    "    #DateSlider(value=date(2018, 9, 1), start=date(2018, 1, 1), end=date(2018, 12, 31)),\n",
    "    #DateRangeSlider(value=(date(2018, 9, 1), date(2018, 9, 30)), start=date(2018, 1, 1), end=date(2018, 12, 31)),\n",
    "\n",
    "    #CheckboxGroup(labels=[\"Checkbox Option 1\", \"Checkbox Option 2\", \"Checkbox Option 3\"], active=[0, 1]),\n",
    "    #CheckboxGroup(labels=[\"Checkbox Option 4\", \"Checkbox Option 5\", \"Checkbox Option 6\"], active=[1, 2]),\n",
    "    #CheckboxGroup(labels=[\"Checkbox Option 7\", \"Checkbox Option 8\", \"Checkbox Option 9\"], active=[0, 2]),\n",
    "\n",
    "    #CheckboxGroup(labels=[\"Checkbox Option 1\", \"Checkbox Option 2\", \"Checkbox Option 3\"], active=[0, 1], inline=True),\n",
    "    #CheckboxGroup(labels=[\"Checkbox Option 4\", \"Checkbox Option 5\", \"Checkbox Option 6\"], active=[1, 2], inline=True),\n",
    "    #CheckboxGroup(labels=[\"Checkbox Option 7\", \"Checkbox Option 8\", \"Checkbox Option 9\"], active=[0, 2], inline=True),\n",
    "\n",
    "    #RadioGroup(labels=[\"Radio Option 1\", \"Radio Option 2\", \"Radio Option 3\"], active=0),\n",
    "    #RadioGroup(labels=[\"Radio Option 4\", \"Radio Option 5\", \"Radio Option 6\"], active=1),\n",
    "    #RadioGroup(labels=[\"Radio Option 7\", \"Radio Option 8\", \"Radio Option 9\"], active=2),\n",
    "\n",
    "    #RadioGroup(labels=[\"Radio Option 1\", \"Radio Option 2\", \"Radio Option 3\"], active=0, inline=True),\n",
    "    #RadioGroup(labels=[\"Radio Option 4\", \"Radio Option 5\", \"Radio Option 6\"], active=1, inline=True),\n",
    "    #RadioGroup(labels=[\"Radio Option 7\", \"Radio Option 8\", \"Radio Option 9\"], active=2, inline=True),\n",
    "\n",
    "    #Select(options=[\"Select Option 1\", \"Select Option 2\", \"Select Option 3\"]),\n",
    "    #MultiSelect(options=[f\"MultiSelect Option {i+1}\" for i in range(16)], size=6),\n",
    "\n",
    "    #Paragraph(text=\"Paragraph 1\"),\n",
    "    #Paragraph(text=\"Paragraph 2\"),\n",
    "    #Paragraph(text=\"Paragraph 3\"),\n",
    "\n",
    "    Div(text=\"Div 1\"),\n",
    "    Div(text=\"Div 2\"),\n",
    "    Div(text=\"Div 3\"),\n",
    "\n",
    "    PreText(text=\"PreText 1\"),\n",
    "    PreText(text=\"PreText 2\"),\n",
    "    PreText(text=\"PreText 3\"),\n",
    ")\n",
    "show(layout)"
   ]
  },
  {
   "cell_type": "code",
   "execution_count": 14,
   "id": "61ec4bad-8080-4a83-b61c-3cfe7f33a0d1",
   "metadata": {},
   "outputs": [],
   "source": [
    "from bokeh.colors import RGB\n",
    "from bokeh.io import save\n",
    "from bokeh.models import (ColumnDataSource, DataTable, HTMLTemplateFormatter,\n",
    "                          NumberFormatter, StringFormatter, TableColumn)\n",
    "from bokeh.sampledata.periodic_table import elements\n",
    "\n",
    "\n",
    "def get_text_color(hex_color):\n",
    "    \"\"\"Get a text color with high contrast v.s. the background color.\"\"\"\n",
    "    return '#000000' if RGB.from_hex_string(hex_color).luminance > 0.4 else '#ffffff'\n",
    "\n",
    "elements['name_lower'] = elements['name'].str.lower()\n",
    "elements['text_color'] = elements['CPK'].apply(get_text_color)\n",
    "\n",
    "source = ColumnDataSource(elements)\n",
    "\n",
    "html_image_template = \"\"\"\n",
    "<a href=\"http://images-of-elements.com/<%= value %>.php\" target=\"_blank\">\n",
    "  <img src=\"http://images-of-elements.com/<%= value %>.jpg\" style=\"width:40px;height:40px;border:0\">\n",
    "</a>\n",
    "\"\"\"\n",
    "\n",
    "columns = [\n",
    "    TableColumn(field='atomic number', title='Atomic Number',\n",
    "                formatter=NumberFormatter(text_align=\"right\")),\n",
    "    TableColumn(field='symbol', title='Symbol',\n",
    "                formatter=StringFormatter(text_align=\"center\")),\n",
    "    TableColumn(field='name', title='Name',\n",
    "                formatter=StringFormatter(background_color=\"CPK\", text_color=\"text_color\")),\n",
    "    TableColumn(field='name_lower', title='Image',\n",
    "                formatter=HTMLTemplateFormatter(template=html_image_template)),\n",
    "]\n",
    "data_table = DataTable(source=source, columns=columns, editable=False, row_height=45)\n",
    "\n",
    "# show(data_table)"
   ]
  },
  {
   "cell_type": "code",
   "execution_count": 16,
   "id": "c0e349a7-0545-4d4f-9c45-8fa0b38d3690",
   "metadata": {},
   "outputs": [],
   "source": [
    "from bokeh.io import save\n",
    "from bokeh.models import MultiSelect, Tabs\n",
    "\n",
    "selectA = MultiSelect(options=[\"First option\", \"Second option\"])\n",
    "selectB = MultiSelect(options=[\"Third option\", \"Fourth option\"])\n",
    "tabs = Tabs(tabs=[(\"A tab\", selectA), (\"B tab\", selectB)], width=300)\n",
    "\n",
    "show(tabs)"
   ]
  },
  {
   "cell_type": "code",
   "execution_count": 15,
   "id": "d0ee8da5-f19d-43bd-bbb8-664519e3eb55",
   "metadata": {},
   "outputs": [
    {
     "ename": "RuntimeError",
     "evalue": "Models must be owned by only a single document, Toggle(id='p4114', ...) is already in a doc",
     "output_type": "error",
     "traceback": [
      "\u001b[0;31m---------------------------------------------------------------------------\u001b[0m",
      "\u001b[0;31mRuntimeError\u001b[0m                              Traceback (most recent call last)",
      "Cell \u001b[0;32mIn[15], line 3\u001b[0m\n\u001b[1;32m      1\u001b[0m tabs \u001b[38;5;241m=\u001b[39m Tabs(tabs\u001b[38;5;241m=\u001b[39m[(\u001b[38;5;124m\"\u001b[39m\u001b[38;5;124mtab Button\u001b[39m\u001b[38;5;124m\"\u001b[39m, layout), (\u001b[38;5;124m\"\u001b[39m\u001b[38;5;124mtab table\u001b[39m\u001b[38;5;124m\"\u001b[39m, data_table)], width\u001b[38;5;241m=\u001b[39m\u001b[38;5;241m800\u001b[39m)\n\u001b[0;32m----> 3\u001b[0m \u001b[43mshow\u001b[49m\u001b[43m(\u001b[49m\u001b[43mtabs\u001b[49m\u001b[43m)\u001b[49m\n",
      "File \u001b[0;32m~/py-env/pyJup/lib/python3.11/site-packages/bokeh/io/showing.py:149\u001b[0m, in \u001b[0;36mshow\u001b[0;34m(obj, browser, new, notebook_handle, notebook_url, **kwargs)\u001b[0m\n\u001b[1;32m    146\u001b[0m state \u001b[38;5;241m=\u001b[39m curstate()\n\u001b[1;32m    148\u001b[0m \u001b[38;5;28;01mif\u001b[39;00m \u001b[38;5;28misinstance\u001b[39m(obj, UIElement):\n\u001b[0;32m--> 149\u001b[0m     \u001b[38;5;28;01mreturn\u001b[39;00m \u001b[43m_show_with_state\u001b[49m\u001b[43m(\u001b[49m\u001b[43mobj\u001b[49m\u001b[43m,\u001b[49m\u001b[43m \u001b[49m\u001b[43mstate\u001b[49m\u001b[43m,\u001b[49m\u001b[43m \u001b[49m\u001b[43mbrowser\u001b[49m\u001b[43m,\u001b[49m\u001b[43m \u001b[49m\u001b[43mnew\u001b[49m\u001b[43m,\u001b[49m\u001b[43m \u001b[49m\u001b[43mnotebook_handle\u001b[49m\u001b[38;5;241;43m=\u001b[39;49m\u001b[43mnotebook_handle\u001b[49m\u001b[43m)\u001b[49m\n\u001b[1;32m    151\u001b[0m \u001b[38;5;28;01mdef\u001b[39;00m \u001b[38;5;21mis_application\u001b[39m(obj: Any) \u001b[38;5;241m-\u001b[39m\u001b[38;5;241m>\u001b[39m TypeGuard[Application]:\n\u001b[1;32m    152\u001b[0m     \u001b[38;5;28;01mreturn\u001b[39;00m \u001b[38;5;28mgetattr\u001b[39m(obj, \u001b[38;5;124m'\u001b[39m\u001b[38;5;124m_is_a_bokeh_application_class\u001b[39m\u001b[38;5;124m'\u001b[39m, \u001b[38;5;28;01mFalse\u001b[39;00m)\n",
      "File \u001b[0;32m~/py-env/pyJup/lib/python3.11/site-packages/bokeh/io/showing.py:200\u001b[0m, in \u001b[0;36m_show_with_state\u001b[0;34m(obj, state, browser, new, notebook_handle)\u001b[0m\n\u001b[1;32m    197\u001b[0m     shown \u001b[38;5;241m=\u001b[39m \u001b[38;5;28;01mTrue\u001b[39;00m\n\u001b[1;32m    199\u001b[0m \u001b[38;5;28;01mif\u001b[39;00m state\u001b[38;5;241m.\u001b[39mfile \u001b[38;5;129;01mor\u001b[39;00m \u001b[38;5;129;01mnot\u001b[39;00m shown:\n\u001b[0;32m--> 200\u001b[0m     \u001b[43m_show_file_with_state\u001b[49m\u001b[43m(\u001b[49m\u001b[43mobj\u001b[49m\u001b[43m,\u001b[49m\u001b[43m \u001b[49m\u001b[43mstate\u001b[49m\u001b[43m,\u001b[49m\u001b[43m \u001b[49m\u001b[43mnew\u001b[49m\u001b[43m,\u001b[49m\u001b[43m \u001b[49m\u001b[43mcontroller\u001b[49m\u001b[43m)\u001b[49m\n\u001b[1;32m    202\u001b[0m \u001b[38;5;28;01mreturn\u001b[39;00m comms_handle\n",
      "File \u001b[0;32m~/py-env/pyJup/lib/python3.11/site-packages/bokeh/io/showing.py:181\u001b[0m, in \u001b[0;36m_show_file_with_state\u001b[0;34m(obj, state, new, controller)\u001b[0m\n\u001b[1;32m    177\u001b[0m \u001b[38;5;28;01mdef\u001b[39;00m \u001b[38;5;21m_show_file_with_state\u001b[39m(obj: UIElement, state: State, new: BrowserTarget, controller: BrowserLike) \u001b[38;5;241m-\u001b[39m\u001b[38;5;241m>\u001b[39m \u001b[38;5;28;01mNone\u001b[39;00m:\n\u001b[1;32m    178\u001b[0m \u001b[38;5;250m    \u001b[39m\u001b[38;5;124;03m'''\u001b[39;00m\n\u001b[1;32m    179\u001b[0m \n\u001b[1;32m    180\u001b[0m \u001b[38;5;124;03m    '''\u001b[39;00m\n\u001b[0;32m--> 181\u001b[0m     filename \u001b[38;5;241m=\u001b[39m \u001b[43msave\u001b[49m\u001b[43m(\u001b[49m\u001b[43mobj\u001b[49m\u001b[43m,\u001b[49m\u001b[43m \u001b[49m\u001b[43mstate\u001b[49m\u001b[38;5;241;43m=\u001b[39;49m\u001b[43mstate\u001b[49m\u001b[43m)\u001b[49m\n\u001b[1;32m    182\u001b[0m     controller\u001b[38;5;241m.\u001b[39mopen(\u001b[38;5;124m\"\u001b[39m\u001b[38;5;124mfile://\u001b[39m\u001b[38;5;124m\"\u001b[39m \u001b[38;5;241m+\u001b[39m filename, new\u001b[38;5;241m=\u001b[39mNEW_PARAM[new])\n",
      "File \u001b[0;32m~/py-env/pyJup/lib/python3.11/site-packages/bokeh/io/saving.py:98\u001b[0m, in \u001b[0;36msave\u001b[0;34m(obj, filename, resources, title, template, state)\u001b[0m\n\u001b[1;32m     95\u001b[0m theme \u001b[38;5;241m=\u001b[39m state\u001b[38;5;241m.\u001b[39mdocument\u001b[38;5;241m.\u001b[39mtheme\n\u001b[1;32m     97\u001b[0m filename, resources, title \u001b[38;5;241m=\u001b[39m _get_save_args(state, filename, resources, title)\n\u001b[0;32m---> 98\u001b[0m \u001b[43m_save_helper\u001b[49m\u001b[43m(\u001b[49m\u001b[43mobj\u001b[49m\u001b[43m,\u001b[49m\u001b[43m \u001b[49m\u001b[43mfilename\u001b[49m\u001b[43m,\u001b[49m\u001b[43m \u001b[49m\u001b[43mresources\u001b[49m\u001b[43m,\u001b[49m\u001b[43m \u001b[49m\u001b[43mtitle\u001b[49m\u001b[43m,\u001b[49m\u001b[43m \u001b[49m\u001b[43mtemplate\u001b[49m\u001b[43m,\u001b[49m\u001b[43m \u001b[49m\u001b[43mtheme\u001b[49m\u001b[43m)\u001b[49m\n\u001b[1;32m     99\u001b[0m \u001b[38;5;28;01mreturn\u001b[39;00m abspath(expanduser(filename))\n",
      "File \u001b[0;32m~/py-env/pyJup/lib/python3.11/site-packages/bokeh/io/saving.py:164\u001b[0m, in \u001b[0;36m_save_helper\u001b[0;34m(obj, filename, resources, title, template, theme)\u001b[0m\n\u001b[1;32m    160\u001b[0m \u001b[38;5;250m\u001b[39m\u001b[38;5;124;03m'''\u001b[39;00m\n\u001b[1;32m    161\u001b[0m \n\u001b[1;32m    162\u001b[0m \u001b[38;5;124;03m'''\u001b[39;00m\n\u001b[1;32m    163\u001b[0m \u001b[38;5;28;01mfrom\u001b[39;00m \u001b[38;5;21;01m.\u001b[39;00m\u001b[38;5;21;01m.\u001b[39;00m\u001b[38;5;21;01membed\u001b[39;00m \u001b[38;5;28;01mimport\u001b[39;00m file_html\n\u001b[0;32m--> 164\u001b[0m html \u001b[38;5;241m=\u001b[39m \u001b[43mfile_html\u001b[49m\u001b[43m(\u001b[49m\u001b[43mobj\u001b[49m\u001b[43m,\u001b[49m\u001b[43m \u001b[49m\u001b[43mresources\u001b[49m\u001b[38;5;241;43m=\u001b[39;49m\u001b[43mresources\u001b[49m\u001b[43m,\u001b[49m\u001b[43m \u001b[49m\u001b[43mtitle\u001b[49m\u001b[38;5;241;43m=\u001b[39;49m\u001b[43mtitle\u001b[49m\u001b[43m,\u001b[49m\u001b[43m \u001b[49m\u001b[43mtemplate\u001b[49m\u001b[38;5;241;43m=\u001b[39;49m\u001b[43mtemplate\u001b[49m\u001b[43m \u001b[49m\u001b[38;5;129;43;01mor\u001b[39;49;00m\u001b[43m \u001b[49m\u001b[43mFILE\u001b[49m\u001b[43m,\u001b[49m\u001b[43m \u001b[49m\u001b[43mtheme\u001b[49m\u001b[38;5;241;43m=\u001b[39;49m\u001b[43mtheme\u001b[49m\u001b[43m)\u001b[49m\n\u001b[1;32m    166\u001b[0m \u001b[38;5;28;01mwith\u001b[39;00m \u001b[38;5;28mopen\u001b[39m(filename, mode\u001b[38;5;241m=\u001b[39m\u001b[38;5;124m\"\u001b[39m\u001b[38;5;124mw\u001b[39m\u001b[38;5;124m\"\u001b[39m, encoding\u001b[38;5;241m=\u001b[39m\u001b[38;5;124m\"\u001b[39m\u001b[38;5;124mutf-8\u001b[39m\u001b[38;5;124m\"\u001b[39m) \u001b[38;5;28;01mas\u001b[39;00m f:\n\u001b[1;32m    167\u001b[0m     f\u001b[38;5;241m.\u001b[39mwrite(html)\n",
      "File \u001b[0;32m~/py-env/pyJup/lib/python3.11/site-packages/bokeh/embed/standalone.py:358\u001b[0m, in \u001b[0;36mfile_html\u001b[0;34m(models, resources, title, template, template_variables, theme, suppress_callback_warning, _always_new)\u001b[0m\n\u001b[1;32m    354\u001b[0m     models_seq \u001b[38;5;241m=\u001b[39m models\n\u001b[1;32m    356\u001b[0m resources \u001b[38;5;241m=\u001b[39m Resources\u001b[38;5;241m.\u001b[39mbuild(resources)\n\u001b[0;32m--> 358\u001b[0m \u001b[43m\u001b[49m\u001b[38;5;28;43;01mwith\u001b[39;49;00m\u001b[43m \u001b[49m\u001b[43mOutputDocumentFor\u001b[49m\u001b[43m(\u001b[49m\u001b[43mmodels_seq\u001b[49m\u001b[43m,\u001b[49m\u001b[43m \u001b[49m\u001b[43mapply_theme\u001b[49m\u001b[38;5;241;43m=\u001b[39;49m\u001b[43mtheme\u001b[49m\u001b[43m,\u001b[49m\u001b[43m \u001b[49m\u001b[43malways_new\u001b[49m\u001b[38;5;241;43m=\u001b[39;49m\u001b[43m_always_new\u001b[49m\u001b[43m)\u001b[49m\u001b[43m \u001b[49m\u001b[38;5;28;43;01mas\u001b[39;49;00m\u001b[43m \u001b[49m\u001b[43mdoc\u001b[49m\u001b[43m:\u001b[49m\n\u001b[1;32m    359\u001b[0m \u001b[43m    \u001b[49m\u001b[43m(\u001b[49m\u001b[43mdocs_json\u001b[49m\u001b[43m,\u001b[49m\u001b[43m \u001b[49m\u001b[43mrender_items\u001b[49m\u001b[43m)\u001b[49m\u001b[43m \u001b[49m\u001b[38;5;241;43m=\u001b[39;49m\u001b[43m \u001b[49m\u001b[43mstandalone_docs_json_and_render_items\u001b[49m\u001b[43m(\u001b[49m\u001b[43mmodels_seq\u001b[49m\u001b[43m,\u001b[49m\u001b[43m \u001b[49m\u001b[43msuppress_callback_warning\u001b[49m\u001b[38;5;241;43m=\u001b[39;49m\u001b[43msuppress_callback_warning\u001b[49m\u001b[43m)\u001b[49m\n\u001b[1;32m    360\u001b[0m \u001b[43m    \u001b[49m\u001b[43mtitle\u001b[49m\u001b[43m \u001b[49m\u001b[38;5;241;43m=\u001b[39;49m\u001b[43m \u001b[49m\u001b[43m_title_from_models\u001b[49m\u001b[43m(\u001b[49m\u001b[43mmodels_seq\u001b[49m\u001b[43m,\u001b[49m\u001b[43m \u001b[49m\u001b[43mtitle\u001b[49m\u001b[43m)\u001b[49m\n",
      "File \u001b[0;32m/usr/lib/python3.11/contextlib.py:137\u001b[0m, in \u001b[0;36m_GeneratorContextManager.__enter__\u001b[0;34m(self)\u001b[0m\n\u001b[1;32m    135\u001b[0m \u001b[38;5;28;01mdel\u001b[39;00m \u001b[38;5;28mself\u001b[39m\u001b[38;5;241m.\u001b[39margs, \u001b[38;5;28mself\u001b[39m\u001b[38;5;241m.\u001b[39mkwds, \u001b[38;5;28mself\u001b[39m\u001b[38;5;241m.\u001b[39mfunc\n\u001b[1;32m    136\u001b[0m \u001b[38;5;28;01mtry\u001b[39;00m:\n\u001b[0;32m--> 137\u001b[0m     \u001b[38;5;28;01mreturn\u001b[39;00m \u001b[38;5;28mnext\u001b[39m(\u001b[38;5;28mself\u001b[39m\u001b[38;5;241m.\u001b[39mgen)\n\u001b[1;32m    138\u001b[0m \u001b[38;5;28;01mexcept\u001b[39;00m \u001b[38;5;167;01mStopIteration\u001b[39;00m:\n\u001b[1;32m    139\u001b[0m     \u001b[38;5;28;01mraise\u001b[39;00m \u001b[38;5;167;01mRuntimeError\u001b[39;00m(\u001b[38;5;124m\"\u001b[39m\u001b[38;5;124mgenerator didn\u001b[39m\u001b[38;5;124m'\u001b[39m\u001b[38;5;124mt yield\u001b[39m\u001b[38;5;124m\"\u001b[39m) \u001b[38;5;28;01mfrom\u001b[39;00m \u001b[38;5;28;01mNone\u001b[39;00m\n",
      "File \u001b[0;32m~/py-env/pyJup/lib/python3.11/site-packages/bokeh/embed/util.py:153\u001b[0m, in \u001b[0;36mOutputDocumentFor\u001b[0;34m(objs, apply_theme, always_new)\u001b[0m\n\u001b[1;32m    151\u001b[0m     doc \u001b[38;5;241m=\u001b[39m _new_doc()\n\u001b[1;32m    152\u001b[0m     \u001b[38;5;28;01mfor\u001b[39;00m model \u001b[38;5;129;01min\u001b[39;00m objs:\n\u001b[0;32m--> 153\u001b[0m         \u001b[43mdoc\u001b[49m\u001b[38;5;241;43m.\u001b[39;49m\u001b[43madd_root\u001b[49m\u001b[43m(\u001b[49m\u001b[43mmodel\u001b[49m\u001b[43m)\u001b[49m\n\u001b[1;32m    155\u001b[0m \u001b[38;5;66;03m# handle a single shared document\u001b[39;00m\n\u001b[1;32m    156\u001b[0m \u001b[38;5;28;01melif\u001b[39;00m \u001b[38;5;28mlen\u001b[39m(docs) \u001b[38;5;241m==\u001b[39m \u001b[38;5;241m1\u001b[39m:\n",
      "File \u001b[0;32m~/py-env/pyJup/lib/python3.11/site-packages/bokeh/document/document.py:321\u001b[0m, in \u001b[0;36mDocument.add_root\u001b[0;34m(self, model, setter)\u001b[0m\n\u001b[1;32m    318\u001b[0m \u001b[38;5;28;01mif\u001b[39;00m model \u001b[38;5;129;01min\u001b[39;00m \u001b[38;5;28mself\u001b[39m\u001b[38;5;241m.\u001b[39m_roots:\n\u001b[1;32m    319\u001b[0m     \u001b[38;5;28;01mreturn\u001b[39;00m\n\u001b[0;32m--> 321\u001b[0m \u001b[43m\u001b[49m\u001b[38;5;28;43;01mwith\u001b[39;49;00m\u001b[43m \u001b[49m\u001b[38;5;28;43mself\u001b[39;49m\u001b[38;5;241;43m.\u001b[39;49m\u001b[43mmodels\u001b[49m\u001b[38;5;241;43m.\u001b[39;49m\u001b[43mfreeze\u001b[49m\u001b[43m(\u001b[49m\u001b[43m)\u001b[49m\u001b[43m:\u001b[49m\n\u001b[1;32m    322\u001b[0m \u001b[43m    \u001b[49m\u001b[38;5;28;43mself\u001b[39;49m\u001b[38;5;241;43m.\u001b[39;49m\u001b[43m_roots\u001b[49m\u001b[38;5;241;43m.\u001b[39;49m\u001b[43mappend\u001b[49m\u001b[43m(\u001b[49m\u001b[43mmodel\u001b[49m\u001b[43m)\u001b[49m\n\u001b[1;32m    324\u001b[0m \u001b[38;5;28mself\u001b[39m\u001b[38;5;241m.\u001b[39mcallbacks\u001b[38;5;241m.\u001b[39mtrigger_on_change(RootAddedEvent(\u001b[38;5;28mself\u001b[39m, model, setter))\n",
      "File \u001b[0;32m/usr/lib/python3.11/contextlib.py:144\u001b[0m, in \u001b[0;36m_GeneratorContextManager.__exit__\u001b[0;34m(self, typ, value, traceback)\u001b[0m\n\u001b[1;32m    142\u001b[0m \u001b[38;5;28;01mif\u001b[39;00m typ \u001b[38;5;129;01mis\u001b[39;00m \u001b[38;5;28;01mNone\u001b[39;00m:\n\u001b[1;32m    143\u001b[0m     \u001b[38;5;28;01mtry\u001b[39;00m:\n\u001b[0;32m--> 144\u001b[0m         \u001b[38;5;28mnext\u001b[39m(\u001b[38;5;28mself\u001b[39m\u001b[38;5;241m.\u001b[39mgen)\n\u001b[1;32m    145\u001b[0m     \u001b[38;5;28;01mexcept\u001b[39;00m \u001b[38;5;167;01mStopIteration\u001b[39;00m:\n\u001b[1;32m    146\u001b[0m         \u001b[38;5;28;01mreturn\u001b[39;00m \u001b[38;5;28;01mFalse\u001b[39;00m\n",
      "File \u001b[0;32m~/py-env/pyJup/lib/python3.11/site-packages/bokeh/document/models.py:135\u001b[0m, in \u001b[0;36mDocumentModelManager.freeze\u001b[0;34m(self)\u001b[0m\n\u001b[1;32m    133\u001b[0m \u001b[38;5;28mself\u001b[39m\u001b[38;5;241m.\u001b[39m_push_freeze()\n\u001b[1;32m    134\u001b[0m \u001b[38;5;28;01myield\u001b[39;00m\n\u001b[0;32m--> 135\u001b[0m \u001b[38;5;28;43mself\u001b[39;49m\u001b[38;5;241;43m.\u001b[39;49m\u001b[43m_pop_freeze\u001b[49m\u001b[43m(\u001b[49m\u001b[43m)\u001b[49m\n",
      "File \u001b[0;32m~/py-env/pyJup/lib/python3.11/site-packages/bokeh/document/models.py:288\u001b[0m, in \u001b[0;36mDocumentModelManager._pop_freeze\u001b[0;34m(self)\u001b[0m\n\u001b[1;32m    286\u001b[0m \u001b[38;5;28mself\u001b[39m\u001b[38;5;241m.\u001b[39m_freeze_count \u001b[38;5;241m-\u001b[39m\u001b[38;5;241m=\u001b[39m \u001b[38;5;241m1\u001b[39m\n\u001b[1;32m    287\u001b[0m \u001b[38;5;28;01mif\u001b[39;00m \u001b[38;5;28mself\u001b[39m\u001b[38;5;241m.\u001b[39m_freeze_count \u001b[38;5;241m==\u001b[39m \u001b[38;5;241m0\u001b[39m:\n\u001b[0;32m--> 288\u001b[0m     \u001b[38;5;28;43mself\u001b[39;49m\u001b[38;5;241;43m.\u001b[39;49m\u001b[43mrecompute\u001b[49m\u001b[43m(\u001b[49m\u001b[43m)\u001b[49m\n",
      "File \u001b[0;32m~/py-env/pyJup/lib/python3.11/site-packages/bokeh/document/models.py:235\u001b[0m, in \u001b[0;36mDocumentModelManager.recompute\u001b[0;34m(self)\u001b[0m\n\u001b[1;32m    232\u001b[0m     md\u001b[38;5;241m.\u001b[39m_detach_document()\n\u001b[1;32m    234\u001b[0m \u001b[38;5;28;01mfor\u001b[39;00m ma \u001b[38;5;129;01min\u001b[39;00m to_attach:\n\u001b[0;32m--> 235\u001b[0m     \u001b[43mma\u001b[49m\u001b[38;5;241;43m.\u001b[39;49m\u001b[43m_attach_document\u001b[49m\u001b[43m(\u001b[49m\u001b[43mdocument\u001b[49m\u001b[43m)\u001b[49m\n\u001b[1;32m    236\u001b[0m     \u001b[38;5;28mself\u001b[39m\u001b[38;5;241m.\u001b[39m_new_models\u001b[38;5;241m.\u001b[39madd(ma)\n\u001b[1;32m    238\u001b[0m \u001b[38;5;28mself\u001b[39m\u001b[38;5;241m.\u001b[39m_models \u001b[38;5;241m=\u001b[39m recomputed\n",
      "File \u001b[0;32m~/py-env/pyJup/lib/python3.11/site-packages/bokeh/model/model.py:584\u001b[0m, in \u001b[0;36mModel._attach_document\u001b[0;34m(self, doc)\u001b[0m\n\u001b[1;32m    581\u001b[0m     \u001b[38;5;28;01mreturn\u001b[39;00m\n\u001b[1;32m    583\u001b[0m \u001b[38;5;28;01mif\u001b[39;00m \u001b[38;5;28mself\u001b[39m\u001b[38;5;241m.\u001b[39mdocument \u001b[38;5;129;01mis\u001b[39;00m \u001b[38;5;129;01mnot\u001b[39;00m \u001b[38;5;28;01mNone\u001b[39;00m:\n\u001b[0;32m--> 584\u001b[0m     \u001b[38;5;28;01mraise\u001b[39;00m \u001b[38;5;167;01mRuntimeError\u001b[39;00m(\u001b[38;5;124mf\u001b[39m\u001b[38;5;124m\"\u001b[39m\u001b[38;5;124mModels must be owned by only a single document, \u001b[39m\u001b[38;5;132;01m{\u001b[39;00m\u001b[38;5;28mself\u001b[39m\u001b[38;5;132;01m!r}\u001b[39;00m\u001b[38;5;124m is already in a doc\u001b[39m\u001b[38;5;124m\"\u001b[39m)\n\u001b[1;32m    586\u001b[0m doc\u001b[38;5;241m.\u001b[39mtheme\u001b[38;5;241m.\u001b[39mapply_to_model(\u001b[38;5;28mself\u001b[39m)\n\u001b[1;32m    587\u001b[0m \u001b[38;5;28mself\u001b[39m\u001b[38;5;241m.\u001b[39mdocument \u001b[38;5;241m=\u001b[39m doc\n",
      "\u001b[0;31mRuntimeError\u001b[0m: Models must be owned by only a single document, Toggle(id='p4114', ...) is already in a doc"
     ]
    }
   ],
   "source": [
    "tabs = Tabs(tabs=[(\"tab Button\", layout), (\"tab table\", data_table)], width=800)\n",
    "\n",
    "show(tabs)"
   ]
  },
  {
   "cell_type": "code",
   "execution_count": null,
   "id": "7d9bc85c-e6bd-4e21-8a18-c740d2508c91",
   "metadata": {},
   "outputs": [],
   "source": []
  }
 ],
 "metadata": {
  "kernelspec": {
   "display_name": "Python 3 (ipykernel)",
   "language": "python",
   "name": "python3"
  },
  "language_info": {
   "codemirror_mode": {
    "name": "ipython",
    "version": 3
   },
   "file_extension": ".py",
   "mimetype": "text/x-python",
   "name": "python",
   "nbconvert_exporter": "python",
   "pygments_lexer": "ipython3",
   "version": "3.11.8"
  }
 },
 "nbformat": 4,
 "nbformat_minor": 5
}
