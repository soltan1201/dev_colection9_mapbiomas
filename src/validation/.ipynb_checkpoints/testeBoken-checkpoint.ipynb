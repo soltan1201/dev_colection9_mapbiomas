{
 "cells": [
  {
   "cell_type": "code",
   "execution_count": 2,
   "id": "2166d57c-d238-4eba-bf55-8268d75e50ba",
   "metadata": {},
   "outputs": [
    {
     "ename": "ImportError",
     "evalue": "cannot import name 'Panel' from 'bokeh.models.widgets' (/home/superuser/py-env/pyJup/lib/python3.11/site-packages/bokeh/models/widgets/__init__.py)",
     "output_type": "error",
     "traceback": [
      "\u001b[0;31m---------------------------------------------------------------------------\u001b[0m",
      "\u001b[0;31mImportError\u001b[0m                               Traceback (most recent call last)",
      "Cell \u001b[0;32mIn[2], line 1\u001b[0m\n\u001b[0;32m----> 1\u001b[0m \u001b[38;5;28;01mfrom\u001b[39;00m \u001b[38;5;21;01mbokeh\u001b[39;00m\u001b[38;5;21;01m.\u001b[39;00m\u001b[38;5;21;01mmodels\u001b[39;00m\u001b[38;5;21;01m.\u001b[39;00m\u001b[38;5;21;01mwidgets\u001b[39;00m \u001b[38;5;28;01mimport\u001b[39;00m Panel, Tabs\n\u001b[1;32m      2\u001b[0m \u001b[38;5;28;01mfrom\u001b[39;00m \u001b[38;5;21;01mbokeh\u001b[39;00m\u001b[38;5;21;01m.\u001b[39;00m\u001b[38;5;21;01mio\u001b[39;00m \u001b[38;5;28;01mimport\u001b[39;00m output_file, show\n\u001b[1;32m      3\u001b[0m \u001b[38;5;28;01mfrom\u001b[39;00m \u001b[38;5;21;01mbokeh\u001b[39;00m\u001b[38;5;21;01m.\u001b[39;00m\u001b[38;5;21;01mplotting\u001b[39;00m \u001b[38;5;28;01mimport\u001b[39;00m figure\n",
      "\u001b[0;31mImportError\u001b[0m: cannot import name 'Panel' from 'bokeh.models.widgets' (/home/superuser/py-env/pyJup/lib/python3.11/site-packages/bokeh/models/widgets/__init__.py)"
     ]
    }
   ],
   "source": [
    "from bokeh.models.widgets import Panel, Tabs\n",
    "from bokeh.io import output_file, show\n",
    "from bokeh.plotting import figure"
   ]
  },
  {
   "cell_type": "code",
   "execution_count": null,
   "id": "37b4af5b-53aa-43e4-8ac7-e4347725934b",
   "metadata": {},
   "outputs": [],
   "source": [
    "output_file(\"slider.html\")"
   ]
  },
  {
   "cell_type": "code",
   "execution_count": null,
   "id": "e121f23c-4970-4dff-82f8-c1e35a1ba9b8",
   "metadata": {},
   "outputs": [],
   "source": []
  },
  {
   "cell_type": "code",
   "execution_count": null,
   "id": "715583f4-0d25-4b14-8aba-14be7e32ee4c",
   "metadata": {},
   "outputs": [],
   "source": []
  },
  {
   "cell_type": "code",
   "execution_count": null,
   "id": "51e4d4a4-7090-4fb1-9095-4afff93052c2",
   "metadata": {},
   "outputs": [],
   "source": []
  },
  {
   "cell_type": "code",
   "execution_count": null,
   "id": "972e1bd0-ec3b-4380-b9a9-201754dcc12c",
   "metadata": {},
   "outputs": [],
   "source": []
  },
  {
   "cell_type": "code",
   "execution_count": 3,
   "id": "c533a97d-9f18-49c1-af37-f183cb124838",
   "metadata": {},
   "outputs": [],
   "source": [
    "from bokeh.layouts import row\n",
    "from bokeh.plotting import figure, show\n",
    "\n",
    "# prepare some data\n",
    "x = list(range(11))\n",
    "y0 = x\n",
    "y1 = [10 - i for i in x]\n",
    "y2 = [abs(i - 5) for i in x]\n",
    "\n",
    "# create three plots with one renderer each\n",
    "s1 = figure(width=250, height=250, background_fill_color=\"#fafafa\")\n",
    "s1.scatter(x, y0, size=12, color=\"#53777a\", alpha=0.8, marker=\"circle\")\n",
    "\n",
    "s2 = figure(width=250, height=250, background_fill_color=\"#fafafa\")\n",
    "s2.scatter(x, y1, size=12, color=\"#c02942\", alpha=0.8, marker=\"triangle\")\n",
    "\n",
    "s3 = figure(width=250, height=250, background_fill_color=\"#fafafa\")\n",
    "s3.scatter(x, y2, size=12, color=\"#d95b43\", alpha=0.8, marker=\"square\")\n",
    "\n",
    "# put the results in a row and show\n",
    "show(row(s1, s2, s3))"
   ]
  },
  {
   "cell_type": "code",
   "execution_count": 6,
   "id": "3d5164c8-e326-4655-85a0-0324d9a6097a",
   "metadata": {},
   "outputs": [
    {
     "name": "stdout",
     "output_type": "stream",
     "text": [
      "\u001b[31mERROR: Could not find a version that satisfies the requirement tutorial_data (from versions: none)\u001b[0m\u001b[31m\n",
      "\u001b[0m\u001b[31mERROR: No matching distribution found for tutorial_data\u001b[0m\u001b[31m\n",
      "\u001b[0m"
     ]
    }
   ],
   "source": [
    "!pip install tutorial_data\n"
   ]
  },
  {
   "cell_type": "code",
   "execution_count": 5,
   "id": "8f240b89-f6b4-4463-a93d-73a609545557",
   "metadata": {},
   "outputs": [
    {
     "ename": "ModuleNotFoundError",
     "evalue": "No module named 'tutorial_data'",
     "output_type": "error",
     "traceback": [
      "\u001b[0;31m---------------------------------------------------------------------------\u001b[0m",
      "\u001b[0;31mModuleNotFoundError\u001b[0m                       Traceback (most recent call last)",
      "Cell \u001b[0;32mIn[5], line 2\u001b[0m\n\u001b[1;32m      1\u001b[0m \u001b[38;5;66;03m# load tutorial data\u001b[39;00m\n\u001b[0;32m----> 2\u001b[0m \u001b[38;5;28;01mfrom\u001b[39;00m \u001b[38;5;21;01mtutorial_data\u001b[39;00m \u001b[38;5;28;01mimport\u001b[39;00m data\n",
      "\u001b[0;31mModuleNotFoundError\u001b[0m: No module named 'tutorial_data'"
     ]
    }
   ],
   "source": [
    "import \n",
    "# load tutorial data\n",
    "from tutorial_data import data"
   ]
  },
  {
   "cell_type": "code",
   "execution_count": 4,
   "id": "1b43bdd6-6e77-4e4e-9df0-acc65314c248",
   "metadata": {},
   "outputs": [
    {
     "ename": "NameError",
     "evalue": "name 'data' is not defined",
     "output_type": "error",
     "traceback": [
      "\u001b[0;31m---------------------------------------------------------------------------\u001b[0m",
      "\u001b[0;31mNameError\u001b[0m                                 Traceback (most recent call last)",
      "Cell \u001b[0;32mIn[4], line 8\u001b[0m\n\u001b[1;32m      2\u001b[0m visual_properties_plot \u001b[38;5;241m=\u001b[39m figure(\n\u001b[1;32m      3\u001b[0m     height\u001b[38;5;241m=\u001b[39m\u001b[38;5;241m300\u001b[39m,\n\u001b[1;32m      4\u001b[0m     title\u001b[38;5;241m=\u001b[39m\u001b[38;5;124m\"\u001b[39m\u001b[38;5;124mDomestic Freight and Mail (2021)\u001b[39m\u001b[38;5;124m\"\u001b[39m,\n\u001b[1;32m      5\u001b[0m )\n\u001b[1;32m      7\u001b[0m \u001b[38;5;66;03m# load data from the monthly_values_df data set from the demo data\u001b[39;00m\n\u001b[0;32m----> 8\u001b[0m monthly_values_df \u001b[38;5;241m=\u001b[39m \u001b[43mdata\u001b[49m\u001b[38;5;241m.\u001b[39mget_monthly_values()\n\u001b[1;32m     10\u001b[0m \u001b[38;5;66;03m# use data from the monthly_values_df DataFrame\u001b[39;00m\n\u001b[1;32m     11\u001b[0m x \u001b[38;5;241m=\u001b[39m monthly_values_df\u001b[38;5;241m.\u001b[39mindex  \u001b[38;5;66;03m# x-axis is the number of the month\u001b[39;00m\n",
      "\u001b[0;31mNameError\u001b[0m: name 'data' is not defined"
     ]
    }
   ],
   "source": [
    "# set up the plot\n",
    "visual_properties_plot = figure(\n",
    "    height=300,\n",
    "    title=\"Domestic Freight and Mail (2021)\",\n",
    ")\n",
    "\n",
    "# load data from the monthly_values_df data set from the demo data\n",
    "monthly_values_df = data.get_monthly_values()\n",
    "\n",
    "# use data from the monthly_values_df DataFrame\n",
    "x = monthly_values_df.index  # x-axis is the number of the month\n",
    "freight = monthly_values_df[\"freight\"]  # the amount of freight\n",
    "mail = monthly_values_df[\"mail\"]  # the amount of mail\n",
    "\n",
    "# Change the font size of the title\n",
    "# 🔁 try changing the values of those properties to see how they affect the plot\n",
    "visual_properties_plot.title.text_font_size = \"1.2em\"  # use a CSS-style definition of the font size\n",
    "visual_properties_plot.title.text_color = \"darkblue\"  # use a named CSS color\n",
    "\n",
    "# add a line glyph and customize its appearance\n",
    "# 🔁 try changing the values of those properties to see how they affect the plot\n",
    "visual_properties_plot.line(\n",
    "    x,\n",
    "    freight,\n",
    "    line_width=3,\n",
    "    line_color=\"orange\",\n",
    "    line_alpha=0.6,\n",
    "    line_dash=\"dashed\",  # line properties\n",
    ")\n",
    "\n",
    "# add a vbar glyph and customize its appearance\n",
    "# 🔁 try changing the values of those properties to see how they affect the plot\n",
    "visual_properties_plot.vbar(\n",
    "    x=x,\n",
    "    top=mail,\n",
    "    width=0.9,\n",
    "    fill_alpha=0.5,\n",
    "    fill_color=\"navy\",  # fill properties\n",
    "    hatch_pattern=\"spiral\",\n",
    "    hatch_alpha=0.5,\n",
    "    hatch_color=\"yellow\",  # hatch properties\n",
    ")\n",
    "\n",
    "show(visual_properties_plot)"
   ]
  },
  {
   "cell_type": "code",
   "execution_count": 8,
   "id": "2a213ae3-e5b2-408c-b1b0-24a035f4a2b7",
   "metadata": {},
   "outputs": [],
   "source": [
    "from datetime import date\n",
    "\n",
    "from bokeh.layouts import column\n",
    "from bokeh.models import (AutocompleteInput, Button, CheckboxButtonGroup,\n",
    "                          DatePicker, Dropdown, RadioButtonGroup, TextInput, Toggle)\n",
    "from bokeh.plotting import save\n",
    "\n",
    "menu = [(\"Item 1\", \"1\"), (\"Item 2\", \"2\"), (\"Item 3\", \"3\")]\n",
    "\n",
    "layout = column(\n",
    "    Button(label=\"Default Button 1\", button_type=\"default\"),\n",
    "    Button(label=\"Primary Button 2\", button_type=\"primary\"),\n",
    "    Button(label=\"Success Button 3\", button_type=\"success\"),\n",
    "\n",
    "    Toggle(label=\"Default Toggle 1\", button_type=\"default\"),\n",
    "    Toggle(label=\"Primary Toggle 2\", button_type=\"primary\"),\n",
    "    Toggle(label=\"Success Toggle 3\", button_type=\"success\"),\n",
    "\n",
    "    Dropdown(label=\"Default Dropdown 1\", button_type=\"default\", menu=menu),\n",
    "    Dropdown(label=\"Primary Dropdown 2\", button_type=\"primary\", menu=menu),\n",
    "    Dropdown(label=\"Success Dropdown 3\", button_type=\"success\", menu=menu),\n",
    "\n",
    "    CheckboxButtonGroup(labels=[\"Checkbox Option 1\", \"Checkbox Option 2\", \"Checkbox Option 3\"], button_type=\"default\", active=[0, 1]),\n",
    "    CheckboxButtonGroup(labels=[\"Checkbox Option 4\", \"Checkbox Option 5\", \"Checkbox Option 6\"], button_type=\"primary\", active=[1, 2]),\n",
    "    CheckboxButtonGroup(labels=[\"Checkbox Option 7\", \"Checkbox Option 8\", \"Checkbox Option 9\"], button_type=\"success\", active=[0, 2]),\n",
    "\n",
    "    RadioButtonGroup(labels=[\"Radio Option 1\", \"Radio Option 2\", \"Radio Option 3\"], button_type=\"default\", active=0),\n",
    "    RadioButtonGroup(labels=[\"Radio Option 4\", \"Radio Option 5\", \"Radio Option 6\"], button_type=\"primary\", active=1),\n",
    "    RadioButtonGroup(labels=[\"Radio Option 7\", \"Radio Option 8\", \"Radio Option 9\"], button_type=\"success\", active=2),\n",
    "\n",
    "    TextInput(placeholder=\"TextInput 1\"),\n",
    "    TextInput(placeholder=\"TextInput 2\"),\n",
    "    TextInput(placeholder=\"TextInput 3\"),\n",
    "\n",
    "    AutocompleteInput(placeholder=\"AutocompleteInput 1 ...\", completions=[\"aaa\", \"aab\", \"aac\", \"baa\", \"caa\"]),\n",
    "    AutocompleteInput(placeholder=\"AutocompleteInput 2 ...\", completions=[\"AAA\", \"AAB\", \"AAC\", \"BAA\", \"CAA\"]),\n",
    "    AutocompleteInput(placeholder=\"AutocompleteInput 3 ...\", completions=[\"000\", \"001\", \"002\", \"100\", \"200\"]),\n",
    "\n",
    "    DatePicker(value=date(2018, 9, 1)),\n",
    "    DatePicker(value=date(2018, 9, 2)),\n",
    "    DatePicker(value=date(2018, 9, 3)),\n",
    ")\n",
    "\n",
    "    #Slider(value=10, start=0, end=100, step=0.5),\n",
    "    #RangeSlider(value=[20, 30], start=0, end=100, step=0.5),\n",
    "    #DateSlider(value=date(2018, 9, 1), start=date(2018, 1, 1), end=date(2018, 12, 31)),\n",
    "    #DateRangeSlider(value=(date(2018, 9, 1), date(2018, 9, 30)), start=date(2018, 1, 1), end=date(2018, 12, 31)),\n",
    "\n",
    "    #CheckboxGroup(labels=[\"Checkbox Option 1\", \"Checkbox Option 2\", \"Checkbox Option 3\"], active=[0, 1]),\n",
    "    #CheckboxGroup(labels=[\"Checkbox Option 4\", \"Checkbox Option 5\", \"Checkbox Option 6\"], active=[1, 2]),\n",
    "    #CheckboxGroup(labels=[\"Checkbox Option 7\", \"Checkbox Option 8\", \"Checkbox Option 9\"], active=[0, 2]),\n",
    "\n",
    "    #CheckboxGroup(labels=[\"Checkbox Option 1\", \"Checkbox Option 2\", \"Checkbox Option 3\"], active=[0, 1], inline=True),\n",
    "    #CheckboxGroup(labels=[\"Checkbox Option 4\", \"Checkbox Option 5\", \"Checkbox Option 6\"], active=[1, 2], inline=True),\n",
    "    #CheckboxGroup(labels=[\"Checkbox Option 7\", \"Checkbox Option 8\", \"Checkbox Option 9\"], active=[0, 2], inline=True),\n",
    "\n",
    "    #RadioGroup(labels=[\"Radio Option 1\", \"Radio Option 2\", \"Radio Option 3\"], active=0),\n",
    "    #RadioGroup(labels=[\"Radio Option 4\", \"Radio Option 5\", \"Radio Option 6\"], active=1),\n",
    "    #RadioGroup(labels=[\"Radio Option 7\", \"Radio Option 8\", \"Radio Option 9\"], active=2),\n",
    "\n",
    "    #RadioGroup(labels=[\"Radio Option 1\", \"Radio Option 2\", \"Radio Option 3\"], active=0, inline=True),\n",
    "    #RadioGroup(labels=[\"Radio Option 4\", \"Radio Option 5\", \"Radio Option 6\"], active=1, inline=True),\n",
    "    #RadioGroup(labels=[\"Radio Option 7\", \"Radio Option 8\", \"Radio Option 9\"], active=2, inline=True),\n",
    "\n",
    "    #Select(options=[\"Select Option 1\", \"Select Option 2\", \"Select Option 3\"]),\n",
    "    #MultiSelect(options=[f\"MultiSelect Option {i+1}\" for i in range(16)], size=6),\n",
    "\n",
    "    #Paragraph(text=\"Paragraph 1\"),\n",
    "    #Paragraph(text=\"Paragraph 2\"),\n",
    "    #Paragraph(text=\"Paragraph 3\"),\n",
    "\n",
    "    #Div(text=\"Div 1\"),\n",
    "    #Div(text=\"Div 2\"),\n",
    "    #Div(text=\"Div 3\"),\n",
    "\n",
    "    #PreText(text=\"PreText 1\"),\n",
    "    #PreText(text=\"PreText 2\"),\n",
    "    #PreText(text=\"PreText 3\"),\n",
    "\n",
    "show(layout)"
   ]
  },
  {
   "cell_type": "code",
   "execution_count": 9,
   "id": "61ec4bad-8080-4a83-b61c-3cfe7f33a0d1",
   "metadata": {},
   "outputs": [],
   "source": [
    "from bokeh.colors import RGB\n",
    "from bokeh.io import save\n",
    "from bokeh.models import (ColumnDataSource, DataTable, HTMLTemplateFormatter,\n",
    "                          NumberFormatter, StringFormatter, TableColumn)\n",
    "from bokeh.sampledata.periodic_table import elements\n",
    "\n",
    "\n",
    "def get_text_color(hex_color):\n",
    "    \"\"\"Get a text color with high contrast v.s. the background color.\"\"\"\n",
    "    return '#000000' if RGB.from_hex_string(hex_color).luminance > 0.4 else '#ffffff'\n",
    "\n",
    "elements['name_lower'] = elements['name'].str.lower()\n",
    "elements['text_color'] = elements['CPK'].apply(get_text_color)\n",
    "\n",
    "source = ColumnDataSource(elements)\n",
    "\n",
    "html_image_template = \"\"\"\n",
    "<a href=\"http://images-of-elements.com/<%= value %>.php\" target=\"_blank\">\n",
    "  <img src=\"http://images-of-elements.com/<%= value %>.jpg\" style=\"width:40px;height:40px;border:0\">\n",
    "</a>\n",
    "\"\"\"\n",
    "\n",
    "columns = [\n",
    "    TableColumn(field='atomic number', title='Atomic Number',\n",
    "                formatter=NumberFormatter(text_align=\"right\")),\n",
    "    TableColumn(field='symbol', title='Symbol',\n",
    "                formatter=StringFormatter(text_align=\"center\")),\n",
    "    TableColumn(field='name', title='Name',\n",
    "                formatter=StringFormatter(background_color=\"CPK\", text_color=\"text_color\")),\n",
    "    TableColumn(field='name_lower', title='Image',\n",
    "                formatter=HTMLTemplateFormatter(template=html_image_template)),\n",
    "]\n",
    "data_table = DataTable(source=source, columns=columns, editable=False, row_height=45)\n",
    "\n",
    "show(data_table)"
   ]
  },
  {
   "cell_type": "code",
   "execution_count": 11,
   "id": "c0e349a7-0545-4d4f-9c45-8fa0b38d3690",
   "metadata": {},
   "outputs": [],
   "source": [
    "from bokeh.io import save\n",
    "from bokeh.models import MultiSelect, Tabs\n",
    "\n",
    "selectA = MultiSelect(options=[\"First option\", \"Second option\"])\n",
    "selectB = MultiSelect(options=[\"Third option\", \"Fourth option\"])\n",
    "tabs = Tabs(tabs=[(\"A tab\", select), (\"B tab\")], width=300)\n",
    "\n",
    "show(tabs)"
   ]
  },
  {
   "cell_type": "code",
   "execution_count": null,
   "id": "d0ee8da5-f19d-43bd-bbb8-664519e3eb55",
   "metadata": {},
   "outputs": [],
   "source": []
  }
 ],
 "metadata": {
  "kernelspec": {
   "display_name": "Python 3 (ipykernel)",
   "language": "python",
   "name": "python3"
  },
  "language_info": {
   "codemirror_mode": {
    "name": "ipython",
    "version": 3
   },
   "file_extension": ".py",
   "mimetype": "text/x-python",
   "name": "python",
   "nbconvert_exporter": "python",
   "pygments_lexer": "ipython3",
   "version": "3.11.8"
  }
 },
 "nbformat": 4,
 "nbformat_minor": 5
}
